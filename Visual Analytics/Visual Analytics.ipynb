{
 "cells": [
  {
   "cell_type": "code",
   "execution_count": 1,
   "id": "initial_id",
   "metadata": {
    "collapsed": true,
    "ExecuteTime": {
     "end_time": "2024-11-05T23:16:06.831675Z",
     "start_time": "2024-11-05T23:16:05.985517Z"
    }
   },
   "outputs": [],
   "source": [
    "import numpy as np\n",
    "import pandas as pd"
   ]
  },
  {
   "cell_type": "code",
   "outputs": [
    {
     "name": "stdout",
     "output_type": "stream",
     "text": [
      "hello world\n"
     ]
    }
   ],
   "source": [
    "print(\"hello world\")"
   ],
   "metadata": {
    "collapsed": false,
    "ExecuteTime": {
     "end_time": "2024-11-05T23:16:08.048062Z",
     "start_time": "2024-11-05T23:16:08.044195Z"
    }
   },
   "id": "c8acd42ff6590245",
   "execution_count": 2
  },
  {
   "cell_type": "code",
   "outputs": [
    {
     "name": "stdout",
     "output_type": "stream",
     "text": [
      "done this after the commit\n"
     ]
    }
   ],
   "source": [
    "print(\"done this after the commit\")\n",
    "### asaas"
   ],
   "metadata": {
    "collapsed": false,
    "ExecuteTime": {
     "end_time": "2024-11-05T23:16:08.776210Z",
     "start_time": "2024-11-05T23:16:08.771212Z"
    }
   },
   "id": "a1efa6c2b6be520e",
   "execution_count": 3
  },
  {
   "cell_type": "code",
   "outputs": [
    {
     "name": "stdout",
     "output_type": "stream",
     "text": [
      "      ÿþD  Unnamed: 1  Unnamed: 2  Unnamed: 3  Unnamed: 4\n",
      "0     NaN         NaN         NaN         NaN         NaN\n",
      "1     NaN         NaN         NaN         NaN         NaN\n",
      "2     NaN         NaN         NaN         NaN         NaN\n",
      "3     NaN         NaN         NaN         NaN         NaN\n",
      "4     NaN         NaN         NaN         NaN         NaN\n",
      "...   ...         ...         ...         ...         ...\n",
      "2693  NaN         NaN         NaN         NaN         NaN\n",
      "2694  NaN         NaN         NaN         NaN         NaN\n",
      "2695  NaN         NaN         NaN         NaN         NaN\n",
      "2696  NaN         NaN         NaN         NaN         NaN\n",
      "2697  NaN         NaN         NaN         NaN         NaN\n",
      "\n",
      "[2698 rows x 5 columns]\n"
     ]
    }
   ],
   "source": [
    "### TODO research on encoding and why the fuck does this not read any csv files\n",
    "df = pd.read_csv('stats_ratings_202107_country.csv', encoding=\"ISO-8859-1\")\n",
    "print(df)"
   ],
   "metadata": {
    "collapsed": false,
    "ExecuteTime": {
     "end_time": "2024-11-05T23:21:19.371879Z",
     "start_time": "2024-11-05T23:21:19.348469Z"
    }
   },
   "id": "44987be242d1a370",
   "execution_count": 14
  },
  {
   "cell_type": "code",
   "outputs": [],
   "source": [],
   "metadata": {
    "collapsed": false
   },
   "id": "1c7b0487c77cd8d1"
  }
 ],
 "metadata": {
  "kernelspec": {
   "display_name": "Python 3",
   "language": "python",
   "name": "python3"
  },
  "language_info": {
   "codemirror_mode": {
    "name": "ipython",
    "version": 2
   },
   "file_extension": ".py",
   "mimetype": "text/x-python",
   "name": "python",
   "nbconvert_exporter": "python",
   "pygments_lexer": "ipython2",
   "version": "2.7.6"
  }
 },
 "nbformat": 4,
 "nbformat_minor": 5
}
