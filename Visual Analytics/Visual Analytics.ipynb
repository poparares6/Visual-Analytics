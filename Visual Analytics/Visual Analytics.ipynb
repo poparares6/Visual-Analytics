{
 "cells": [
  {
   "cell_type": "code",
   "execution_count": 1,
   "id": "initial_id",
   "metadata": {
    "collapsed": true,
    "ExecuteTime": {
     "end_time": "2024-11-04T21:44:05.247660Z",
     "start_time": "2024-11-04T21:44:04.546016Z"
    }
   },
   "outputs": [],
   "source": [
    "import numpy as np\n",
    "import pandas as pd"
   ]
  },
  {
   "cell_type": "code",
   "outputs": [
    {
     "name": "stdout",
     "output_type": "stream",
     "text": [
      "hello world\n"
     ]
    }
   ],
   "source": [
    "print(\"hello world\")"
   ],
   "metadata": {
    "collapsed": false,
    "ExecuteTime": {
     "end_time": "2024-11-04T13:24:00.173048Z",
     "start_time": "2024-11-04T13:24:00.165995Z"
    }
   },
   "id": "c8acd42ff6590245",
   "execution_count": 3
  },
  {
   "cell_type": "code",
   "outputs": [],
   "source": [
    "print(\"done this after the commit\")\n",
    "### asaas"
   ],
   "metadata": {
    "collapsed": false
   },
   "id": "a1efa6c2b6be520e"
  },
  {
   "cell_type": "code",
   "outputs": [
    {
     "name": "stdout",
     "output_type": "stream",
     "text": [
      "  Unnamed: 0\n",
      "0          \u0012\n",
      "1  \u0010cbÓé\u0018S´\n"
     ]
    }
   ],
   "source": [
    "df = pd.read_csv('._reviews_202106.csv', encoding='unicode_escape')\n",
    "print(df)"
   ],
   "metadata": {
    "collapsed": false,
    "ExecuteTime": {
     "end_time": "2024-11-04T21:53:14.821255Z",
     "start_time": "2024-11-04T21:53:14.798148Z"
    }
   },
   "id": "44987be242d1a370",
   "execution_count": 5
  },
  {
   "cell_type": "code",
   "outputs": [],
   "source": [],
   "metadata": {
    "collapsed": false
   },
   "id": "1c7b0487c77cd8d1"
  }
 ],
 "metadata": {
  "kernelspec": {
   "display_name": "Python 3",
   "language": "python",
   "name": "python3"
  },
  "language_info": {
   "codemirror_mode": {
    "name": "ipython",
    "version": 2
   },
   "file_extension": ".py",
   "mimetype": "text/x-python",
   "name": "python",
   "nbconvert_exporter": "python",
   "pygments_lexer": "ipython2",
   "version": "2.7.6"
  }
 },
 "nbformat": 4,
 "nbformat_minor": 5
}
