{
 "cells": [
  {
   "cell_type": "markdown",
   "id": "83fc3205-ffec-4cec-96b9-e0350f2efa47",
   "metadata": {},
   "source": [
    "# Sports Betting Data Analysis"
   ]
  },
  {
   "cell_type": "code",
   "execution_count": 1,
   "id": "initial_id",
   "metadata": {
    "ExecuteTime": {
     "end_time": "2024-10-16T14:52:40.897500Z",
     "start_time": "2024-10-16T14:52:39.159156Z"
    }
   },
   "outputs": [],
   "source": [
    "#imported libraries for the project\n",
    "import numpy as np\n",
    "import matplotlib.pyplot as plt\n",
    "import pandas as pd"
   ]
  },
  {
   "cell_type": "markdown",
   "id": "d38b4307-9d47-4b9c-9789-3c5a63b1c2da",
   "metadata": {},
   "source": [
    "## Creating our dataset"
   ]
  },
  {
   "cell_type": "code",
   "execution_count": 2,
   "id": "8d23f3d22143fa09",
   "metadata": {
    "ExecuteTime": {
     "end_time": "2024-10-16T14:52:43.487653Z",
     "start_time": "2024-10-16T14:52:43.420619Z"
    }
   },
   "outputs": [],
   "source": [
    "#inspected the dataset and selected suitable columns for our analysis\n",
    "cols_needed = ['Div', 'Date', 'HomeTeam', 'AwayTeam', 'Referee', 'FTHG', 'FTAG', 'FTR', 'HTHG', 'HTAG', 'HTR', 'B365H', 'B365D', 'B365A']\n",
    "df_2018 = pd.read_csv('2018.csv')\n",
    "updated_2018 = df_2018[cols_needed]\n",
    "df_2019 = pd.read_csv('2019.csv')\n",
    "updated_2019 = df_2019[cols_needed]\n",
    "df_2020 = pd.read_csv('2020.csv')\n",
    "updated_2020 = df_2020[cols_needed]\n",
    "df_2021 = pd.read_csv('2021.csv')\n",
    "updated_2021 = df_2021[cols_needed]\n",
    "df_2022 = pd.read_csv('2022.csv')\n",
    "updated_2022 = df_2022[cols_needed]\n",
    "df_2023 = pd.read_csv('2023.csv')\n",
    "updated_2023 = df_2023[cols_needed]"
   ]
  },
  {
   "cell_type": "code",
   "execution_count": 3,
   "id": "bfae267eb01a580a",
   "metadata": {
    "collapsed": false,
    "ExecuteTime": {
     "end_time": "2024-10-16T14:52:45.302577Z",
     "start_time": "2024-10-16T14:52:45.274039Z"
    }
   },
   "outputs": [
    {
     "name": "stdout",
     "output_type": "stream",
     "text": [
      "    Div        Date      HomeTeam        AwayTeam     Referee  FTHG  FTAG FTR  \\\n",
      "0    E0  10/08/2018    Man United       Leicester  A Marriner     2     1   H   \n",
      "1    E0  11/08/2018   Bournemouth         Cardiff    K Friend     2     0   H   \n",
      "2    E0  11/08/2018        Fulham  Crystal Palace      M Dean     0     2   A   \n",
      "3    E0  11/08/2018  Huddersfield         Chelsea  C Kavanagh     0     3   A   \n",
      "4    E0  11/08/2018     Newcastle       Tottenham  M Atkinson     1     2   A   \n",
      "..   ..         ...           ...             ...         ...   ...   ...  ..   \n",
      "375  E0  12/05/2019     Liverpool          Wolves  M Atkinson     2     0   H   \n",
      "376  E0  12/05/2019    Man United         Cardiff      J Moss     0     2   A   \n",
      "377  E0  12/05/2019   Southampton    Huddersfield   L Probert     1     1   D   \n",
      "378  E0  12/05/2019     Tottenham         Everton  A Marriner     2     2   D   \n",
      "379  E0  12/05/2019       Watford        West Ham  C Kavanagh     1     4   A   \n",
      "\n",
      "     HTHG  HTAG HTR  B365H  B365D  B365A  \n",
      "0       1     0   H   1.57   3.90   7.50  \n",
      "1       1     0   H   1.90   3.60   4.50  \n",
      "2       0     1   A   2.50   3.40   3.00  \n",
      "3       0     2   A   6.50   4.00   1.61  \n",
      "4       1     2   A   3.90   3.50   2.04  \n",
      "..    ...   ...  ..    ...    ...    ...  \n",
      "375     1     0   H   1.30   6.00  11.00  \n",
      "376     0     1   A   1.28   6.50  11.00  \n",
      "377     1     0   H   1.44   4.75   8.50  \n",
      "378     1     0   H   2.20   3.50   3.50  \n",
      "379     0     2   A   2.25   3.75   3.20  \n",
      "\n",
      "[380 rows x 14 columns]\n",
      "    Div        Date        HomeTeam          AwayTeam     Referee  FTHG  FTAG  \\\n",
      "0    E0  09/08/2019       Liverpool           Norwich    M Oliver     4     1   \n",
      "1    E0  10/08/2019        West Ham          Man City      M Dean     0     5   \n",
      "2    E0  10/08/2019     Bournemouth  Sheffield United    K Friend     1     1   \n",
      "3    E0  10/08/2019         Burnley       Southampton     G Scott     3     0   \n",
      "4    E0  10/08/2019  Crystal Palace           Everton      J Moss     0     0   \n",
      "..   ..         ...             ...               ...         ...   ...   ...   \n",
      "375  E0  26/07/2020       Leicester        Man United  M Atkinson     0     2   \n",
      "376  E0  26/07/2020        Man City           Norwich    C Pawson     5     0   \n",
      "377  E0  26/07/2020       Newcastle         Liverpool    A Taylor     1     3   \n",
      "378  E0  26/07/2020     Southampton  Sheffield United    P Bankes     3     1   \n",
      "379  E0  26/07/2020        West Ham       Aston Villa    M Oliver     1     1   \n",
      "\n",
      "    FTR  HTHG  HTAG HTR  B365H  B365D  B365A  \n",
      "0     H     4     0   H   1.14  10.00  19.00  \n",
      "1     A     0     1   A  12.00   6.50   1.22  \n",
      "2     D     0     0   D   1.95   3.60   3.60  \n",
      "3     H     0     0   D   2.62   3.20   2.75  \n",
      "4     D     0     0   D   3.00   3.25   2.37  \n",
      "..   ..   ...   ...  ..    ...    ...    ...  \n",
      "375   A     0     0   D   3.25   3.50   2.20  \n",
      "376   H     2     0   H   1.08  11.00  26.00  \n",
      "377   A     1     1   D   7.50   5.25   1.36  \n",
      "378   H     0     1   A   2.15   3.50   3.30  \n",
      "379   D     0     0   D   3.00   3.60   2.30  \n",
      "\n",
      "[380 rows x 14 columns]\n",
      "    Div        Date          HomeTeam        AwayTeam     Referee  FTHG  FTAG  \\\n",
      "0    E0  12/09/2020            Fulham         Arsenal  C Kavanagh     0     3   \n",
      "1    E0  12/09/2020    Crystal Palace     Southampton      J Moss     1     0   \n",
      "2    E0  12/09/2020         Liverpool           Leeds    M Oliver     4     3   \n",
      "3    E0  12/09/2020          West Ham       Newcastle   S Attwell     0     2   \n",
      "4    E0  13/09/2020         West Brom       Leicester    A Taylor     0     3   \n",
      "..   ..         ...               ...             ...         ...   ...   ...   \n",
      "375  E0  23/05/2021         Liverpool  Crystal Palace    C Pawson     2     0   \n",
      "376  E0  23/05/2021          Man City         Everton    M Oliver     5     0   \n",
      "377  E0  23/05/2021  Sheffield United         Burnley    K Friend     1     0   \n",
      "378  E0  23/05/2021          West Ham     Southampton  M Atkinson     3     0   \n",
      "379  E0  23/05/2021            Wolves      Man United      M Dean     1     2   \n",
      "\n",
      "    FTR  HTHG  HTAG HTR  B365H  B365D  B365A  \n",
      "0     A     0     1   A   6.00   4.33   1.53  \n",
      "1     H     1     0   H   3.10   3.25   2.37  \n",
      "2     H     3     2   H   1.28   6.00   9.50  \n",
      "3     A     0     0   D   2.15   3.40   3.40  \n",
      "4     A     0     0   D   3.80   3.60   1.95  \n",
      "..   ..   ...   ...  ..    ...    ...    ...  \n",
      "375   H     1     0   H   1.14   8.50  15.00  \n",
      "376   H     2     0   H   1.44   5.00   6.50  \n",
      "377   H     1     0   H   2.80   3.60   2.40  \n",
      "378   H     2     0   H   1.65   4.00   5.00  \n",
      "379   A     1     2   A   2.50   3.50   2.70  \n",
      "\n",
      "[380 rows x 14 columns]\n",
      "    Div        Date        HomeTeam        AwayTeam     Referee  FTHG  FTAG  \\\n",
      "0    E0  13/08/2021       Brentford         Arsenal    M Oliver     2     0   \n",
      "1    E0  14/08/2021      Man United           Leeds   P Tierney     5     1   \n",
      "2    E0  14/08/2021         Burnley        Brighton     D Coote     1     2   \n",
      "3    E0  14/08/2021         Chelsea  Crystal Palace      J Moss     3     0   \n",
      "4    E0  14/08/2021         Everton     Southampton    A Madley     3     1   \n",
      "..   ..         ...             ...             ...         ...   ...   ...   \n",
      "375  E0  22/05/2022  Crystal Palace      Man United  M Atkinson     1     0   \n",
      "376  E0  22/05/2022       Leicester     Southampton      J Moss     4     1   \n",
      "377  E0  22/05/2022       Liverpool          Wolves    A Taylor     3     1   \n",
      "378  E0  22/05/2022        Man City     Aston Villa    M Oliver     3     2   \n",
      "379  E0  22/05/2022         Norwich       Tottenham  C Kavanagh     0     5   \n",
      "\n",
      "    FTR  HTHG  HTAG HTR  B365H  B365D  B365A  \n",
      "0     H     1     0   H   4.00   3.40   1.95  \n",
      "1     H     1     0   H   1.53   4.50   5.75  \n",
      "2     A     1     0   H   3.10   3.10   2.45  \n",
      "3     H     2     0   H   1.25   5.75  13.00  \n",
      "4     H     0     1   A   1.90   3.50   4.00  \n",
      "..   ..   ...   ...  ..    ...    ...    ...  \n",
      "375   H     1     0   H   3.00   3.60   2.25  \n",
      "376   H     0     0   D   1.85   4.00   3.80  \n",
      "377   H     1     1   D   1.14   8.50  15.00  \n",
      "378   H     0     1   A   1.16   8.00  17.00  \n",
      "379   A     0     2   A   9.50   6.50   1.25  \n",
      "\n",
      "[380 rows x 14 columns]\n",
      "    Div        Date        HomeTeam       AwayTeam    Referee  FTHG  FTAG FTR  \\\n",
      "0    E0  05/08/2022  Crystal Palace        Arsenal   A Taylor     0     2   A   \n",
      "1    E0  06/08/2022          Fulham      Liverpool   A Madley     2     2   D   \n",
      "2    E0  06/08/2022     Bournemouth    Aston Villa   P Bankes     2     0   H   \n",
      "3    E0  06/08/2022           Leeds         Wolves    R Jones     2     1   H   \n",
      "4    E0  06/08/2022       Newcastle  Nott'm Forest   S Hooper     2     0   H   \n",
      "..   ..         ...             ...            ...        ...   ...   ...  ..   \n",
      "375  E0  28/05/2023         Everton    Bournemouth  S Attwell     1     0   H   \n",
      "376  E0  28/05/2023           Leeds      Tottenham   A Taylor     1     4   A   \n",
      "377  E0  28/05/2023       Leicester       West Ham   S Hooper     2     1   H   \n",
      "378  E0  28/05/2023      Man United         Fulham    R Jones     2     1   H   \n",
      "379  E0  28/05/2023     Southampton      Liverpool  D England     4     4   D   \n",
      "\n",
      "     HTHG  HTAG HTR  B365H  B365D  B365A  \n",
      "0       0     1   A   4.20   3.60   1.85  \n",
      "1       1     0   H  11.00   6.00   1.25  \n",
      "2       1     0   H   3.75   3.50   2.00  \n",
      "3       1     1   D   2.25   3.40   3.20  \n",
      "4       0     0   D   1.66   3.80   5.25  \n",
      "..    ...   ...  ..    ...    ...    ...  \n",
      "375     0     0   D   1.50   4.50   6.50  \n",
      "376     0     1   A   2.75   3.80   2.30  \n",
      "377     1     0   H   1.91   3.80   3.60  \n",
      "378     1     1   D   1.50   4.33   6.00  \n",
      "379     2     2   D   6.50   4.75   1.44  \n",
      "\n",
      "[380 rows x 14 columns]\n",
      "    Div        Date          HomeTeam       AwayTeam     Referee  FTHG  FTAG  \\\n",
      "0    E0  11/08/2023           Burnley       Man City    C Pawson     0     3   \n",
      "1    E0  12/08/2023           Arsenal  Nott'm Forest    M Oliver     2     1   \n",
      "2    E0  12/08/2023       Bournemouth       West Ham    P Bankes     1     1   \n",
      "3    E0  12/08/2023          Brighton          Luton     D Coote     4     1   \n",
      "4    E0  12/08/2023           Everton         Fulham   S Attwell     0     1   \n",
      "..   ..         ...               ...            ...         ...   ...   ...   \n",
      "375  E0  19/05/2024    Crystal Palace    Aston Villa      D Bond     5     0   \n",
      "376  E0  19/05/2024         Liverpool         Wolves  C Kavanagh     2     0   \n",
      "377  E0  19/05/2024             Luton         Fulham   M Donohue     2     4   \n",
      "378  E0  19/05/2024          Man City       West Ham    J Brooks     3     1   \n",
      "379  E0  19/05/2024  Sheffield United      Tottenham    A Madley     0     3   \n",
      "\n",
      "    FTR  HTHG  HTAG HTR  B365H  B365D  B365A  \n",
      "0     A     0     2   A   8.00   5.50   1.33  \n",
      "1     H     2     0   H   1.18   7.00  15.00  \n",
      "2     D     0     0   D   2.70   3.40   2.55  \n",
      "3     H     1     0   H   1.33   5.50   9.00  \n",
      "4     A     0     0   D   2.20   3.40   3.30  \n",
      "..   ..   ...   ...  ..    ...    ...    ...  \n",
      "375   H     2     0   H   1.85   4.33   3.60  \n",
      "376   H     2     0   H   1.17   8.00  15.00  \n",
      "377   A     1     2   A   2.90   3.90   2.20  \n",
      "378   H     2     1   H   1.08  12.00  21.00  \n",
      "379   A     0     1   A   7.00   6.00   1.33  \n",
      "\n",
      "[380 rows x 14 columns]\n"
     ]
    }
   ],
   "source": [
    "print(updated_2018)\n",
    "print(updated_2019)\n",
    "print(updated_2020)\n",
    "print(updated_2021)\n",
    "print(updated_2022)\n",
    "print(updated_2023)"
   ]
  },
  {
   "cell_type": "code",
   "execution_count": 4,
   "id": "9d8fc5aab0f2f094",
   "metadata": {
    "collapsed": true,
    "jupyter": {
     "outputs_hidden": true
    },
    "ExecuteTime": {
     "end_time": "2024-10-16T14:52:48.010106Z",
     "start_time": "2024-10-16T14:52:48.001025Z"
    }
   },
   "outputs": [
    {
     "name": "stdout",
     "output_type": "stream",
     "text": [
      "     Div        Date          HomeTeam        AwayTeam     Referee  FTHG  \\\n",
      "0     E0  10/08/2018        Man United       Leicester  A Marriner     2   \n",
      "1     E0  11/08/2018       Bournemouth         Cardiff    K Friend     2   \n",
      "2     E0  11/08/2018            Fulham  Crystal Palace      M Dean     0   \n",
      "3     E0  11/08/2018      Huddersfield         Chelsea  C Kavanagh     0   \n",
      "4     E0  11/08/2018         Newcastle       Tottenham  M Atkinson     1   \n",
      "...   ..         ...               ...             ...         ...   ...   \n",
      "2275  E0  19/05/2024    Crystal Palace     Aston Villa      D Bond     5   \n",
      "2276  E0  19/05/2024         Liverpool          Wolves  C Kavanagh     2   \n",
      "2277  E0  19/05/2024             Luton          Fulham   M Donohue     2   \n",
      "2278  E0  19/05/2024          Man City        West Ham    J Brooks     3   \n",
      "2279  E0  19/05/2024  Sheffield United       Tottenham    A Madley     0   \n",
      "\n",
      "      FTAG FTR  HTHG  HTAG HTR  B365H  B365D  B365A  \n",
      "0        1   H     1     0   H   1.57   3.90   7.50  \n",
      "1        0   H     1     0   H   1.90   3.60   4.50  \n",
      "2        2   A     0     1   A   2.50   3.40   3.00  \n",
      "3        3   A     0     2   A   6.50   4.00   1.61  \n",
      "4        2   A     1     2   A   3.90   3.50   2.04  \n",
      "...    ...  ..   ...   ...  ..    ...    ...    ...  \n",
      "2275     0   H     2     0   H   1.85   4.33   3.60  \n",
      "2276     0   H     2     0   H   1.17   8.00  15.00  \n",
      "2277     4   A     1     2   A   2.90   3.90   2.20  \n",
      "2278     1   H     2     1   H   1.08  12.00  21.00  \n",
      "2279     3   A     0     1   A   7.00   6.00   1.33  \n",
      "\n",
      "[2280 rows x 14 columns]\n"
     ]
    }
   ],
   "source": [
    "#merged datasets to make our dataset for the analysis\n",
    "merged_frame = pd.concat([updated_2018, updated_2019, updated_2020, updated_2021, updated_2022, updated_2023], ignore_index=True)\n",
    "print(merged_frame)"
   ]
  },
  {
   "cell_type": "code",
   "execution_count": 5,
   "id": "51fdd2ab6ad469b3",
   "metadata": {
    "collapsed": false,
    "ExecuteTime": {
     "end_time": "2024-10-16T14:52:51.343996Z",
     "start_time": "2024-10-16T14:52:51.312792Z"
    }
   },
   "outputs": [
    {
     "name": "stdout",
     "output_type": "stream",
     "text": [
      "     Div        Date          HomeTeam        AwayTeam     Referee  FTHG  \\\n",
      "0     E0  10/08/2018        Man United       Leicester  A Marriner     2   \n",
      "1     E0  11/08/2018       Bournemouth         Cardiff    K Friend     2   \n",
      "2     E0  11/08/2018            Fulham  Crystal Palace      M Dean     0   \n",
      "3     E0  11/08/2018      Huddersfield         Chelsea  C Kavanagh     0   \n",
      "4     E0  11/08/2018         Newcastle       Tottenham  M Atkinson     1   \n",
      "...   ..         ...               ...             ...         ...   ...   \n",
      "2275  E0  19/05/2024    Crystal Palace     Aston Villa      D Bond     5   \n",
      "2276  E0  19/05/2024         Liverpool          Wolves  C Kavanagh     2   \n",
      "2277  E0  19/05/2024             Luton          Fulham   M Donohue     2   \n",
      "2278  E0  19/05/2024          Man City        West Ham    J Brooks     3   \n",
      "2279  E0  19/05/2024  Sheffield United       Tottenham    A Madley     0   \n",
      "\n",
      "      FTAG FTR  HTHG  HTAG HTR  B365H  B365D  B365A  \n",
      "0        1   H     1     0   H   1.57   3.90   7.50  \n",
      "1        0   H     1     0   H   1.90   3.60   4.50  \n",
      "2        2   A     0     1   A   2.50   3.40   3.00  \n",
      "3        3   A     0     2   A   6.50   4.00   1.61  \n",
      "4        2   A     1     2   A   3.90   3.50   2.04  \n",
      "...    ...  ..   ...   ...  ..    ...    ...    ...  \n",
      "2275     0   H     2     0   H   1.85   4.33   3.60  \n",
      "2276     0   H     2     0   H   1.17   8.00  15.00  \n",
      "2277     4   A     1     2   A   2.90   3.90   2.20  \n",
      "2278     1   H     2     1   H   1.08  12.00  21.00  \n",
      "2279     3   A     0     1   A   7.00   6.00   1.33  \n",
      "\n",
      "[2280 rows x 14 columns]\n"
     ]
    }
   ],
   "source": [
    "merged_frame.to_csv('Dataset.csv')\n",
    "final_df = merged_frame.dropna() #removed missing values to clean our dataset\n",
    "print(final_df)"
   ]
  },
  {
   "cell_type": "markdown",
   "id": "837bd49c-5712-4b5f-981a-5ea53b76f8d7",
   "metadata": {},
   "source": [
    "# Data visualization"
   ]
  },
  {
   "cell_type": "code",
   "execution_count": 6,
   "id": "3bc7727d-2d17-4912-8f8f-e2d7ff47100c",
   "metadata": {
    "ExecuteTime": {
     "end_time": "2024-10-16T14:52:56.413653Z",
     "start_time": "2024-10-16T14:52:56.125956Z"
    }
   },
   "outputs": [
    {
     "data": {
      "text/plain": "<Figure size 1000x1000 with 1 Axes>",
      "image/png": "[encoded data removed]"
     },
     "metadata": {},
     "output_type": "display_data"
    }
   ],
   "source": [
    "data = pd.read_csv('Dataset.csv')\n",
    "\n",
    "odds_col = ['B365H', 'B365D', 'B365A']\n",
    "\n",
    "# creating the boxplot\n",
    "plt.figure(figsize=(10, 10))\n",
    "data[odds_col].boxplot(figsize=(10, 10), patch_artist=True)\n",
    "plt.title('Distribution of Betting Odds (Home, Draw, Away)')\n",
    "plt.xlabel('Bet Type')\n",
    "plt.ylabel('Odds')\n",
    "\n",
    "plt.show()"
   ]
  },
  {
   "cell_type": "markdown",
   "id": "65cf202f-ea73-430c-ba5d-5df8a020bd88",
   "metadata": {},
   "source": [
    "# Basic statistics"
   ]
  },
  {
   "cell_type": "code",
   "execution_count": 7,
   "id": "19007ba6-0339-4ee5-b1bf-ae1ebe4854ba",
   "metadata": {
    "ExecuteTime": {
     "end_time": "2024-10-16T14:52:59.966391Z",
     "start_time": "2024-10-16T14:52:59.932043Z"
    }
   },
   "outputs": [
    {
     "data": {
      "text/plain": "        Unnamed: 0         FTHG         FTAG         HTHG         HTAG  \\\ncount  2280.000000  2280.000000  2280.000000  2280.000000  2280.000000   \nmean   1139.500000     1.564035     1.300439     0.703070     0.584649   \nstd     658.323629     1.338768     1.229161     0.859599     0.785359   \nmin       0.000000     0.000000     0.000000     0.000000     0.000000   \n25%     569.750000     1.000000     0.000000     0.000000     0.000000   \n50%    1139.500000     1.000000     1.000000     0.000000     0.000000   \n75%    1709.250000     2.000000     2.000000     1.000000     1.000000   \nmax    2279.000000     9.000000     9.000000     5.000000     5.000000   \n\n             B365H        B365D        B365A  \ncount  2280.000000  2280.000000  2280.000000  \nmean      3.010877     4.317557     4.698649  \nstd       2.399578     1.500021     4.352833  \nmin       1.060000     2.800000     1.120000  \n25%       1.620000     3.500000     2.150000  \n50%       2.250000     3.800000     3.250000  \n75%       3.300000     4.500000     5.500000  \nmax      23.000000    17.000000    41.000000  ",
      "text/html": "<div>\n<style scoped>\n    .dataframe tbody tr th:only-of-type {\n        vertical-align: middle;\n    }\n\n    .dataframe tbody tr th {\n        vertical-align: top;\n    }\n\n    .dataframe thead th {\n        text-align: right;\n    }\n</style>\n<table border=\"1\" class=\"dataframe\">\n  <thead>\n    <tr style=\"text-align: right;\">\n      <th></th>\n      <th>Unnamed: 0</th>\n      <th>FTHG</th>\n      <th>FTAG</th>\n      <th>HTHG</th>\n      <th>HTAG</th>\n      <th>B365H</th>\n      <th>B365D</th>\n      <th>B365A</th>\n    </tr>\n  </thead>\n  <tbody>\n    <tr>\n      <th>count</th>\n      <td>2280.000000</td>\n      <td>2280.000000</td>\n      <td>2280.000000</td>\n      <td>2280.000000</td>\n      <td>2280.000000</td>\n      <td>2280.000000</td>\n      <td>2280.000000</td>\n      <td>2280.000000</td>\n    </tr>\n    <tr>\n      <th>mean</th>\n      <td>1139.500000</td>\n      <td>1.564035</td>\n      <td>1.300439</td>\n      <td>0.703070</td>\n      <td>0.584649</td>\n      <td>3.010877</td>\n      <td>4.317557</td>\n      <td>4.698649</td>\n    </tr>\n    <tr>\n      <th>std</th>\n      <td>658.323629</td>\n      <td>1.338768</td>\n      <td>1.229161</td>\n      <td>0.859599</td>\n      <td>0.785359</td>\n      <td>2.399578</td>\n      <td>1.500021</td>\n      <td>4.352833</td>\n    </tr>\n    <tr>\n      <th>min</th>\n      <td>0.000000</td>\n      <td>0.000000</td>\n      <td>0.000000</td>\n      <td>0.000000</td>\n      <td>0.000000</td>\n      <td>1.060000</td>\n      <td>2.800000</td>\n      <td>1.120000</td>\n    </tr>\n    <tr>\n      <th>25%</th>\n      <td>569.750000</td>\n      <td>1.000000</td>\n      <td>0.000000</td>\n      <td>0.000000</td>\n      <td>0.000000</td>\n      <td>1.620000</td>\n      <td>3.500000</td>\n      <td>2.150000</td>\n    </tr>\n    <tr>\n      <th>50%</th>\n      <td>1139.500000</td>\n      <td>1.000000</td>\n      <td>1.000000</td>\n      <td>0.000000</td>\n      <td>0.000000</td>\n      <td>2.250000</td>\n      <td>3.800000</td>\n      <td>3.250000</td>\n    </tr>\n    <tr>\n      <th>75%</th>\n      <td>1709.250000</td>\n      <td>2.000000</td>\n      <td>2.000000</td>\n      <td>1.000000</td>\n      <td>1.000000</td>\n      <td>3.300000</td>\n      <td>4.500000</td>\n      <td>5.500000</td>\n    </tr>\n    <tr>\n      <th>max</th>\n      <td>2279.000000</td>\n      <td>9.000000</td>\n      <td>9.000000</td>\n      <td>5.000000</td>\n      <td>5.000000</td>\n      <td>23.000000</td>\n      <td>17.000000</td>\n      <td>41.000000</td>\n    </tr>\n  </tbody>\n</table>\n</div>"
     },
     "execution_count": 7,
     "metadata": {},
     "output_type": "execute_result"
    }
   ],
   "source": [
    "data.set_index('Date', inplace=True)\n",
    "data.describe()"
   ]
  },
  {
   "cell_type": "code",
   "execution_count": 8,
   "id": "4cb92d9e3ae558a9",
   "metadata": {
    "collapsed": false,
    "ExecuteTime": {
     "end_time": "2024-10-16T14:53:03.798481Z",
     "start_time": "2024-10-16T14:53:03.786490Z"
    }
   },
   "outputs": [
    {
     "data": {
      "text/plain": "(3.010877192982456, 4.6986491228070175, 4.31755701754386)"
     },
     "execution_count": 8,
     "metadata": {},
     "output_type": "execute_result"
    }
   ],
   "source": [
    "#average odds for home team, away team and draw\n",
    "data = pd.read_csv('Dataset.csv')\n",
    "AOH= float(np.mean(data['B365H']))\n",
    "AOA= float(np.mean(data['B365A']))\n",
    "AOD= float(np.mean(data['B365D']))\n",
    "AOH, AOA, AOD"
   ]
  },
  {
   "cell_type": "code",
   "execution_count": 9,
   "id": "a6ac904d756af7ad",
   "metadata": {
    "collapsed": false,
    "scrolled": true,
    "ExecuteTime": {
     "end_time": "2024-10-16T14:53:04.810092Z",
     "start_time": "2024-10-16T14:53:04.804089Z"
    }
   },
   "outputs": [
    {
     "data": {
      "text/plain": "(1.5640350877192983, 1.3004385964912282, 2.8644736842105263)"
     },
     "execution_count": 9,
     "metadata": {},
     "output_type": "execute_result"
    }
   ],
   "source": [
    "#average amount of home, away and total goals\n",
    "AFTHG = float(np.mean(data['FTHG']))\n",
    "AFTAG = float(np.mean(data['FTAG']))\n",
    "AFTG = float(np.mean(data['FTHG']+data['FTAG']))\n",
    "AFTHG, AFTAG, AFTG"
   ]
  },
  {
   "cell_type": "code",
   "execution_count": 10,
   "id": "e19bf50ace69f871",
   "metadata": {
    "collapsed": false,
    "ExecuteTime": {
     "end_time": "2024-10-16T14:53:08.559037Z",
     "start_time": "2024-10-16T14:53:08.498250Z"
    }
   },
   "outputs": [
    {
     "name": "stdout",
     "output_type": "stream",
     "text": [
      "Home win predictions: 1412, Correct home wins: 811\n",
      "Draw predictions: 0, Correct draws: 0\n",
      "Away win predictions: 852, Correct away wins: 463\n"
     ]
    }
   ],
   "source": [
    "h1, h2 = 0, 0  # h1 = number of times odds predict home win, h2 = number of correct home wins\n",
    "d1, d2 = 0, 0  # d1 = number of times odds predict draw, d2 = number of correct draws\n",
    "a1, a2 = 0, 0  # a1 = number of times odds predict away win, a2 = number of correct away wins\n",
    "\n",
    "\n",
    "for i in range(len(data)):\n",
    "    if data['B365H'][i] < data['B365D'][i] and data['B365H'][i] < data['B365A'][i]:\n",
    "        h1 += 1  #\n",
    "        if data['FTR'][i] == 'H':\n",
    "            h2 += 1\n",
    "\n",
    "    elif data['B365D'][i] < data['B365H'][i] and data['B365D'][i] < data['B365A'][i]:\n",
    "        d1 += 1\n",
    "        if data['FTR'][i] == 'D':\n",
    "            d2 += 1\n",
    "\n",
    "\n",
    "    elif data['B365A'][i] < data['B365D'][i] and data['B365A'][i] < data['B365H'][i]:\n",
    "        a1 += 1\n",
    "        if data['FTR'][i] == 'A':\n",
    "            a2 += 1\n",
    "\n",
    "\n",
    "print(f\"Home win predictions: {h1}, Correct home wins: {h2}\")\n",
    "print(f\"Draw predictions: {d1}, Correct draws: {d2}\")\n",
    "print(f\"Away win predictions: {a1}, Correct away wins: {a2}\")"
   ]
  },
  {
   "cell_type": "code",
   "execution_count": 11,
   "id": "37a9246eabd53ee2",
   "metadata": {
    "collapsed": false,
    "ExecuteTime": {
     "end_time": "2024-10-16T14:53:10.583385Z",
     "start_time": "2024-10-16T14:53:10.506818Z"
    }
   },
   "outputs": [
    {
     "data": {
      "text/plain": "<Figure size 400x400 with 1 Axes>",
      "image/png": "[encoded data removed]"
     },
     "metadata": {},
     "output_type": "display_data"
    }
   ],
   "source": [
    "labels= ['Home Team(correct)', 'Home Team(wrong)', 'Away Team(correct)', 'Away Team(wrong)']\n",
    "home_wrong = h1-h2\n",
    "away_wrong = a1-a2\n",
    "sizes= [h2,home_wrong,a2,away_wrong]\n",
    "explode=[0,0,0,0]\n",
    "plt.figure(figsize=(4,4))\n",
    "plt.pie(sizes, explode=explode,labels=labels, shadow=True, startangle=90)\n",
    "plt.title('Team predicted to win')\n",
    "plt.show()"
   ]
  },
  {
   "cell_type": "code",
   "execution_count": 12,
   "id": "c615d24f4916330d",
   "metadata": {
    "collapsed": false,
    "ExecuteTime": {
     "end_time": "2024-10-16T14:53:13.174087Z",
     "start_time": "2024-10-16T14:53:13.116475Z"
    }
   },
   "outputs": [
    {
     "data": {
      "text/plain": "<Figure size 400x400 with 1 Axes>",
      "image/png": "[encoded data removed]"
     },
     "metadata": {},
     "output_type": "display_data"
    }
   ],
   "source": [
    "labels=['Correct Prediction','Wrong Prediction']\n",
    "sizes=[h2+a2,away_wrong+home_wrong]\n",
    "colors=['Green','Red']\n",
    "explode=[0.03,0]\n",
    "plt.figure(figsize=(4,4))\n",
    "plt.pie(sizes,explode=explode, labels=labels, colors=colors,autopct='%1.1f%%', shadow=True, startangle=90)\n",
    "plt.title('Predictions')\n",
    "plt.show()"
   ]
  },
  {
   "cell_type": "code",
   "execution_count": 13,
   "id": "755207c513c4d7b3",
   "metadata": {
    "collapsed": false,
    "ExecuteTime": {
     "end_time": "2024-10-16T14:53:15.574663Z",
     "start_time": "2024-10-16T14:53:15.569148Z"
    }
   },
   "outputs": [
    {
     "name": "stdout",
     "output_type": "stream",
     "text": [
      "Home win sensitivity: 0.57\n",
      "Draw sensitivity: 0.00\n",
      "Away win sensitivity: 0.54\n"
     ]
    }
   ],
   "source": [
    "if h1 > 0:\n",
    "    home_sensitivity = h2 / h1\n",
    "else:\n",
    "    home_sensitivity = 0\n",
    "\n",
    "if d1 > 0:\n",
    "    draw_sensitivity = d2 / d1\n",
    "else:\n",
    "    draw_sensitivity = 0\n",
    "\n",
    "\n",
    "if a1 > 0:\n",
    "    away_sensitivity = a2 / a1\n",
    "else:\n",
    "    away_sensitivity = 0\n",
    "\n",
    "print(f\"Home win sensitivity: {home_sensitivity:.2f}\")\n",
    "print(f\"Draw sensitivity: {draw_sensitivity:.2f}\")\n",
    "print(f\"Away win sensitivity: {away_sensitivity:.2f}\")"
   ]
  },
  {
   "cell_type": "markdown",
   "id": "1cb7d3ba-4269-48fa-892c-f62f0c99d545",
   "metadata": {},
   "source": [
    "# Creating a new dataset from our analysis "
   ]
  },
  {
   "cell_type": "code",
   "execution_count": 14,
   "id": "85424badc660b89f",
   "metadata": {
    "collapsed": false,
    "ExecuteTime": {
     "end_time": "2024-10-16T14:53:24.577088Z",
     "start_time": "2024-10-16T14:53:24.568207Z"
    }
   },
   "outputs": [
    {
     "name": "stdout",
     "output_type": "stream",
     "text": [
      "                  Team  Goals_Scored  Goals_Conceded FTR  Win_Odds  Lose_Odds\n",
      "0           Man United             2               1   H      1.57       7.50\n",
      "1          Bournemouth             2               0   H      1.90       4.50\n",
      "2               Fulham             0               2   A      2.50       3.00\n",
      "3         Huddersfield             0               3   A      6.50       1.61\n",
      "4            Newcastle             1               2   A      3.90       2.04\n",
      "...                ...           ...             ...  ..       ...        ...\n",
      "2275    Crystal Palace             5               0   H      1.85       3.60\n",
      "2276         Liverpool             2               0   H      1.17      15.00\n",
      "2277             Luton             2               4   A      2.90       2.20\n",
      "2278          Man City             3               1   H      1.08      21.00\n",
      "2279  Sheffield United             0               3   A      7.00       1.33\n",
      "\n",
      "[2280 rows x 6 columns]\n"
     ]
    }
   ],
   "source": [
    "## home games statistics per team dataframe\n",
    "home_games = data[['HomeTeam', 'FTHG', 'FTAG', 'FTR', 'B365H', 'B365A']].copy()\n",
    "home_games.rename(columns={\n",
    "    'HomeTeam': 'Team', 'FTHG': 'Goals_Scored', 'FTAG': 'Goals_Conceded', 'B365H': 'Win_Odds', 'B365A': 'Lose_Odds'},\n",
    "    inplace=True)\n",
    "print(home_games)"
   ]
  },
  {
   "cell_type": "code",
   "execution_count": 15,
   "id": "ce5677e8cb97fe9b",
   "metadata": {
    "collapsed": false,
    "ExecuteTime": {
     "end_time": "2024-10-16T14:53:26.450888Z",
     "start_time": "2024-10-16T14:53:26.442067Z"
    }
   },
   "outputs": [
    {
     "name": "stdout",
     "output_type": "stream",
     "text": [
      "                Team  Goals_Conceded  Goals_Scored FTR  Lose_Odds  Win_Odds\n",
      "0          Leicester               2             1   A       1.57      7.50\n",
      "1            Cardiff               2             0   A       1.90      4.50\n",
      "2     Crystal Palace               0             2   H       2.50      3.00\n",
      "3            Chelsea               0             3   H       6.50      1.61\n",
      "4          Tottenham               1             2   H       3.90      2.04\n",
      "...              ...             ...           ...  ..        ...       ...\n",
      "2275     Aston Villa               5             0   A       1.85      3.60\n",
      "2276          Wolves               2             0   A       1.17     15.00\n",
      "2277          Fulham               2             4   H       2.90      2.20\n",
      "2278        West Ham               3             1   A       1.08     21.00\n",
      "2279       Tottenham               0             3   H       7.00      1.33\n",
      "\n",
      "[2280 rows x 6 columns]\n"
     ]
    }
   ],
   "source": [
    "## away games statistics per team dataframe\n",
    "away_games = data[['AwayTeam', 'FTHG', 'FTAG', 'FTR', 'B365H', 'B365A']].copy()\n",
    "away_games.rename(columns={\n",
    "    'AwayTeam': 'Team', 'FTAG': 'Goals_Scored', 'FTHG': 'Goals_Conceded', 'B365A': 'Win_Odds', 'B365H': 'Lose_Odds'},\n",
    "    inplace=True)\n",
    "away_games['FTR'] = away_games['FTR'].replace({'H': 'A', 'A': 'H'})\n",
    "print(away_games)"
   ]
  },
  {
   "cell_type": "code",
   "execution_count": 16,
   "id": "ade2f9e780567279",
   "metadata": {
    "collapsed": false,
    "ExecuteTime": {
     "end_time": "2024-10-16T14:53:30.077619Z",
     "start_time": "2024-10-16T14:53:30.065741Z"
    }
   },
   "outputs": [
    {
     "data": {
      "text/plain": "              Team  Goals_Scored  Goals_Conceded FTR  Win_Odds  Lose_Odds\n0       Man United             2               1   H      1.57       7.50\n1      Bournemouth             2               0   H      1.90       4.50\n2           Fulham             0               2   A      2.50       3.00\n3     Huddersfield             0               3   A      6.50       1.61\n4        Newcastle             1               2   A      3.90       2.04\n...            ...           ...             ...  ..       ...        ...\n4555   Aston Villa             0               5   A      3.60       1.85\n4556        Wolves             0               2   A     15.00       1.17\n4557        Fulham             4               2   H      2.20       2.90\n4558      West Ham             1               3   A     21.00       1.08\n4559     Tottenham             3               0   H      1.33       7.00\n\n[4560 rows x 6 columns]",
      "text/html": "<div>\n<style scoped>\n    .dataframe tbody tr th:only-of-type {\n        vertical-align: middle;\n    }\n\n    .dataframe tbody tr th {\n        vertical-align: top;\n    }\n\n    .dataframe thead th {\n        text-align: right;\n    }\n</style>\n<table border=\"1\" class=\"dataframe\">\n  <thead>\n    <tr style=\"text-align: right;\">\n      <th></th>\n      <th>Team</th>\n      <th>Goals_Scored</th>\n      <th>Goals_Conceded</th>\n      <th>FTR</th>\n      <th>Win_Odds</th>\n      <th>Lose_Odds</th>\n    </tr>\n  </thead>\n  <tbody>\n    <tr>\n      <th>0</th>\n      <td>Man United</td>\n      <td>2</td>\n      <td>1</td>\n      <td>H</td>\n      <td>1.57</td>\n      <td>7.50</td>\n    </tr>\n    <tr>\n      <th>1</th>\n      <td>Bournemouth</td>\n      <td>2</td>\n      <td>0</td>\n      <td>H</td>\n      <td>1.90</td>\n      <td>4.50</td>\n    </tr>\n    <tr>\n      <th>2</th>\n      <td>Fulham</td>\n      <td>0</td>\n      <td>2</td>\n      <td>A</td>\n      <td>2.50</td>\n      <td>3.00</td>\n    </tr>\n    <tr>\n      <th>3</th>\n      <td>Huddersfield</td>\n      <td>0</td>\n      <td>3</td>\n      <td>A</td>\n      <td>6.50</td>\n      <td>1.61</td>\n    </tr>\n    <tr>\n      <th>4</th>\n      <td>Newcastle</td>\n      <td>1</td>\n      <td>2</td>\n      <td>A</td>\n      <td>3.90</td>\n      <td>2.04</td>\n    </tr>\n    <tr>\n      <th>...</th>\n      <td>...</td>\n      <td>...</td>\n      <td>...</td>\n      <td>...</td>\n      <td>...</td>\n      <td>...</td>\n    </tr>\n    <tr>\n      <th>4555</th>\n      <td>Aston Villa</td>\n      <td>0</td>\n      <td>5</td>\n      <td>A</td>\n      <td>3.60</td>\n      <td>1.85</td>\n    </tr>\n    <tr>\n      <th>4556</th>\n      <td>Wolves</td>\n      <td>0</td>\n      <td>2</td>\n      <td>A</td>\n      <td>15.00</td>\n      <td>1.17</td>\n    </tr>\n    <tr>\n      <th>4557</th>\n      <td>Fulham</td>\n      <td>4</td>\n      <td>2</td>\n      <td>H</td>\n      <td>2.20</td>\n      <td>2.90</td>\n    </tr>\n    <tr>\n      <th>4558</th>\n      <td>West Ham</td>\n      <td>1</td>\n      <td>3</td>\n      <td>A</td>\n      <td>21.00</td>\n      <td>1.08</td>\n    </tr>\n    <tr>\n      <th>4559</th>\n      <td>Tottenham</td>\n      <td>3</td>\n      <td>0</td>\n      <td>H</td>\n      <td>1.33</td>\n      <td>7.00</td>\n    </tr>\n  </tbody>\n</table>\n<p>4560 rows × 6 columns</p>\n</div>"
     },
     "execution_count": 16,
     "metadata": {},
     "output_type": "execute_result"
    }
   ],
   "source": [
    "all_games = pd.concat([home_games, away_games], ignore_index=True)\n",
    "all_games"
   ]
  },
  {
   "cell_type": "code",
   "execution_count": 17,
   "id": "c63f3144657b3541",
   "metadata": {
    "collapsed": false,
    "ExecuteTime": {
     "end_time": "2024-10-16T14:53:35.536858Z",
     "start_time": "2024-10-16T14:53:35.519530Z"
    }
   },
   "outputs": [
    {
     "data": {
      "text/plain": "                  Goals_Scored  Goals_Conceded  Win_Odds  Lose_Odds  FTR\nTeam                                                                    \nArsenal                    424             258  2.246404   5.321842  129\nAston Villa                275             274  3.820789   2.806526   76\nBournemouth                187             273  5.205329   2.285000   46\nBrentford                  162             167  4.068684   2.553158   38\nBrighton                   283             319  4.022851   3.024035   69\nBurnley                    196             304  5.722789   2.081000   48\nCardiff                     34              69  7.887368   1.930789   10\nChelsea                    381             272  2.060702   5.885000  110\nCrystal Palace             270             322  4.689035   2.443640   72\nEverton                    262             324  3.789737   2.931447   77\nFulham                     171             248  5.106579   2.247303   40\nHuddersfield                22              76  8.291053   1.924737    3\nLeeds                      152             211  3.929123   2.525000   34\nLeicester                  299             266  3.379316   3.280474   76\nLiverpool                  497             211  1.618991   8.408246  153\nLuton                       52              85  6.913947   1.762895    6\nMan City                   569             183  1.361404  12.050395  170\nMan United                 376             292  2.404211   4.919474  115\nNewcastle                  323             325  4.593904   2.755746   85\nNorwich                     49             159  6.725526   1.791184   10\nNott'm Forest               87             135  5.385132   2.087500   18\nSheffield United            94             206  6.087632   2.059123   24\nSouthampton                222             333  4.534263   2.481737   51\nTottenham                  409             295  2.453816   4.554868  117\nWatford                    122             200  5.039649   2.341579   28\nWest Brom                   35              76  6.438684   1.818158    5\nWest Ham                   325             344  3.890088   2.751535   85\nWolves                     253             304  4.020614   2.880965   82",
      "text/html": "<div>\n<style scoped>\n    .dataframe tbody tr th:only-of-type {\n        vertical-align: middle;\n    }\n\n    .dataframe tbody tr th {\n        vertical-align: top;\n    }\n\n    .dataframe thead th {\n        text-align: right;\n    }\n</style>\n<table border=\"1\" class=\"dataframe\">\n  <thead>\n    <tr style=\"text-align: right;\">\n      <th></th>\n      <th>Goals_Scored</th>\n      <th>Goals_Conceded</th>\n      <th>Win_Odds</th>\n      <th>Lose_Odds</th>\n      <th>FTR</th>\n    </tr>\n    <tr>\n      <th>Team</th>\n      <th></th>\n      <th></th>\n      <th></th>\n      <th></th>\n      <th></th>\n    </tr>\n  </thead>\n  <tbody>\n    <tr>\n      <th>Arsenal</th>\n      <td>424</td>\n      <td>258</td>\n      <td>2.246404</td>\n      <td>5.321842</td>\n      <td>129</td>\n    </tr>\n    <tr>\n      <th>Aston Villa</th>\n      <td>275</td>\n      <td>274</td>\n      <td>3.820789</td>\n      <td>2.806526</td>\n      <td>76</td>\n    </tr>\n    <tr>\n      <th>Bournemouth</th>\n      <td>187</td>\n      <td>273</td>\n      <td>5.205329</td>\n      <td>2.285000</td>\n      <td>46</td>\n    </tr>\n    <tr>\n      <th>Brentford</th>\n      <td>162</td>\n      <td>167</td>\n      <td>4.068684</td>\n      <td>2.553158</td>\n      <td>38</td>\n    </tr>\n    <tr>\n      <th>Brighton</th>\n      <td>283</td>\n      <td>319</td>\n      <td>4.022851</td>\n      <td>3.024035</td>\n      <td>69</td>\n    </tr>\n    <tr>\n      <th>Burnley</th>\n      <td>196</td>\n      <td>304</td>\n      <td>5.722789</td>\n      <td>2.081000</td>\n      <td>48</td>\n    </tr>\n    <tr>\n      <th>Cardiff</th>\n      <td>34</td>\n      <td>69</td>\n      <td>7.887368</td>\n      <td>1.930789</td>\n      <td>10</td>\n    </tr>\n    <tr>\n      <th>Chelsea</th>\n      <td>381</td>\n      <td>272</td>\n      <td>2.060702</td>\n      <td>5.885000</td>\n      <td>110</td>\n    </tr>\n    <tr>\n      <th>Crystal Palace</th>\n      <td>270</td>\n      <td>322</td>\n      <td>4.689035</td>\n      <td>2.443640</td>\n      <td>72</td>\n    </tr>\n    <tr>\n      <th>Everton</th>\n      <td>262</td>\n      <td>324</td>\n      <td>3.789737</td>\n      <td>2.931447</td>\n      <td>77</td>\n    </tr>\n    <tr>\n      <th>Fulham</th>\n      <td>171</td>\n      <td>248</td>\n      <td>5.106579</td>\n      <td>2.247303</td>\n      <td>40</td>\n    </tr>\n    <tr>\n      <th>Huddersfield</th>\n      <td>22</td>\n      <td>76</td>\n      <td>8.291053</td>\n      <td>1.924737</td>\n      <td>3</td>\n    </tr>\n    <tr>\n      <th>Leeds</th>\n      <td>152</td>\n      <td>211</td>\n      <td>3.929123</td>\n      <td>2.525000</td>\n      <td>34</td>\n    </tr>\n    <tr>\n      <th>Leicester</th>\n      <td>299</td>\n      <td>266</td>\n      <td>3.379316</td>\n      <td>3.280474</td>\n      <td>76</td>\n    </tr>\n    <tr>\n      <th>Liverpool</th>\n      <td>497</td>\n      <td>211</td>\n      <td>1.618991</td>\n      <td>8.408246</td>\n      <td>153</td>\n    </tr>\n    <tr>\n      <th>Luton</th>\n      <td>52</td>\n      <td>85</td>\n      <td>6.913947</td>\n      <td>1.762895</td>\n      <td>6</td>\n    </tr>\n    <tr>\n      <th>Man City</th>\n      <td>569</td>\n      <td>183</td>\n      <td>1.361404</td>\n      <td>12.050395</td>\n      <td>170</td>\n    </tr>\n    <tr>\n      <th>Man United</th>\n      <td>376</td>\n      <td>292</td>\n      <td>2.404211</td>\n      <td>4.919474</td>\n      <td>115</td>\n    </tr>\n    <tr>\n      <th>Newcastle</th>\n      <td>323</td>\n      <td>325</td>\n      <td>4.593904</td>\n      <td>2.755746</td>\n      <td>85</td>\n    </tr>\n    <tr>\n      <th>Norwich</th>\n      <td>49</td>\n      <td>159</td>\n      <td>6.725526</td>\n      <td>1.791184</td>\n      <td>10</td>\n    </tr>\n    <tr>\n      <th>Nott'm Forest</th>\n      <td>87</td>\n      <td>135</td>\n      <td>5.385132</td>\n      <td>2.087500</td>\n      <td>18</td>\n    </tr>\n    <tr>\n      <th>Sheffield United</th>\n      <td>94</td>\n      <td>206</td>\n      <td>6.087632</td>\n      <td>2.059123</td>\n      <td>24</td>\n    </tr>\n    <tr>\n      <th>Southampton</th>\n      <td>222</td>\n      <td>333</td>\n      <td>4.534263</td>\n      <td>2.481737</td>\n      <td>51</td>\n    </tr>\n    <tr>\n      <th>Tottenham</th>\n      <td>409</td>\n      <td>295</td>\n      <td>2.453816</td>\n      <td>4.554868</td>\n      <td>117</td>\n    </tr>\n    <tr>\n      <th>Watford</th>\n      <td>122</td>\n      <td>200</td>\n      <td>5.039649</td>\n      <td>2.341579</td>\n      <td>28</td>\n    </tr>\n    <tr>\n      <th>West Brom</th>\n      <td>35</td>\n      <td>76</td>\n      <td>6.438684</td>\n      <td>1.818158</td>\n      <td>5</td>\n    </tr>\n    <tr>\n      <th>West Ham</th>\n      <td>325</td>\n      <td>344</td>\n      <td>3.890088</td>\n      <td>2.751535</td>\n      <td>85</td>\n    </tr>\n    <tr>\n      <th>Wolves</th>\n      <td>253</td>\n      <td>304</td>\n      <td>4.020614</td>\n      <td>2.880965</td>\n      <td>82</td>\n    </tr>\n  </tbody>\n</table>\n</div>"
     },
     "execution_count": 17,
     "metadata": {},
     "output_type": "execute_result"
    }
   ],
   "source": [
    "## joining together tables, and we get total amount of data from away and home games per team \n",
    "team_stats = all_games.groupby('Team').agg({\n",
    "    'Goals_Scored': 'sum',\n",
    "    'Goals_Conceded': 'sum',\n",
    "    'Win_Odds': 'mean',\n",
    "    'Lose_Odds': 'mean',\n",
    "    'FTR': lambda x: (x == 'H').sum()\n",
    "})\n",
    "team_stats"
   ]
  },
  {
   "cell_type": "code",
   "execution_count": 18,
   "id": "67c10269bf5713e7",
   "metadata": {
    "collapsed": false,
    "ExecuteTime": {
     "end_time": "2024-10-16T14:53:38.928357Z",
     "start_time": "2024-10-16T14:53:38.910256Z"
    }
   },
   "outputs": [
    {
     "name": "stdout",
     "output_type": "stream",
     "text": [
      "                  Goals_Scored  Goals_Conceded  Win_Odds  Lose_Odds  Wins  \\\n",
      "Team                                                                        \n",
      "Arsenal                    424             258  2.246404   5.321842   129   \n",
      "Aston Villa                275             274  3.820789   2.806526    76   \n",
      "Bournemouth                187             273  5.205329   2.285000    46   \n",
      "Brentford                  162             167  4.068684   2.553158    38   \n",
      "Brighton                   283             319  4.022851   3.024035    69   \n",
      "Burnley                    196             304  5.722789   2.081000    48   \n",
      "Cardiff                     34              69  7.887368   1.930789    10   \n",
      "Chelsea                    381             272  2.060702   5.885000   110   \n",
      "Crystal Palace             270             322  4.689035   2.443640    72   \n",
      "Everton                    262             324  3.789737   2.931447    77   \n",
      "Fulham                     171             248  5.106579   2.247303    40   \n",
      "Huddersfield                22              76  8.291053   1.924737     3   \n",
      "Leeds                      152             211  3.929123   2.525000    34   \n",
      "Leicester                  299             266  3.379316   3.280474    76   \n",
      "Liverpool                  497             211  1.618991   8.408246   153   \n",
      "Luton                       52              85  6.913947   1.762895     6   \n",
      "Man City                   569             183  1.361404  12.050395   170   \n",
      "Man United                 376             292  2.404211   4.919474   115   \n",
      "Newcastle                  323             325  4.593904   2.755746    85   \n",
      "Norwich                     49             159  6.725526   1.791184    10   \n",
      "Nott'm Forest               87             135  5.385132   2.087500    18   \n",
      "Sheffield United            94             206  6.087632   2.059123    24   \n",
      "Southampton                222             333  4.534263   2.481737    51   \n",
      "Tottenham                  409             295  2.453816   4.554868   117   \n",
      "Watford                    122             200  5.039649   2.341579    28   \n",
      "West Brom                   35              76  6.438684   1.818158     5   \n",
      "West Ham                   325             344  3.890088   2.751535    85   \n",
      "Wolves                     253             304  4.020614   2.880965    82   \n",
      "\n",
      "                  Losses  Total_Matches  \n",
      "Team                                     \n",
      "Arsenal               57            228  \n",
      "Aston Villa           78            190  \n",
      "Bournemouth           78            152  \n",
      "Brentford             46            114  \n",
      "Brighton              87            228  \n",
      "Burnley               94            190  \n",
      "Cardiff               24             38  \n",
      "Chelsea               62            228  \n",
      "Crystal Palace        94            228  \n",
      "Everton               97            228  \n",
      "Fulham                79            152  \n",
      "Huddersfield          28             38  \n",
      "Leeds                 54            114  \n",
      "Leicester             76            190  \n",
      "Liverpool             28            228  \n",
      "Luton                 24             38  \n",
      "Man City              30            228  \n",
      "Man United            59            228  \n",
      "Newcastle             84            228  \n",
      "Norwich               53             76  \n",
      "Nott'm Forest         38             76  \n",
      "Sheffield United      69            114  \n",
      "Southampton           93            190  \n",
      "Tottenham             73            228  \n",
      "Watford               63            114  \n",
      "West Brom             22             38  \n",
      "West Ham              94            228  \n",
      "Wolves                93            228  \n"
     ]
    }
   ],
   "source": [
    "losses_per_team = all_games.groupby('Team').apply(lambda x: (x['FTR'] == 'A').sum(), include_groups=False)\n",
    "team_stats['Losses'] = losses_per_team\n",
    "team_stats['Total_Matches'] = all_games.groupby('Team').size()\n",
    "team_stats.rename(columns={'FTR': 'Wins'}, inplace=True)\n",
    "print(team_stats)\n",
    "team_stats.to_csv('team_stats_final.csv')"
   ]
  },
  {
   "cell_type": "markdown",
   "id": "4f6a808e-def3-4f19-aa22-05a60512b0c1",
   "metadata": {},
   "source": [
    "# Predictive game based on our analysis"
   ]
  },
  {
   "cell_type": "code",
   "execution_count": 41,
   "id": "3ca2ad3b486f3a8d",
   "metadata": {
    "ExecuteTime": {
     "end_time": "2024-10-14T21:08:21.244685Z",
     "start_time": "2024-10-14T21:08:21.237414Z"
    },
    "collapsed": false
   },
   "outputs": [],
   "source": [
    "def predict_game_with_past(home_team, away_team):\n",
    "    try:\n",
    "## search in the dataframe that the home and away teams exist\n",
    "        home_stats = team_stats.loc[home_team]\n",
    "        away_stats = team_stats.loc[away_team]\n",
    "        past_matches = data[((data['HomeTeam'] == home_team) & (data['AwayTeam'] == away_team)) |\n",
    "                            ((data['HomeTeam'] == away_team) & (data['AwayTeam'] == home_team))]\n",
    "## fetch all past games between home_team and away_team from the dataframe\n",
    "        if past_matches.empty:\n",
    "            print(f\"No past games between {home_team} and {away_team}.\")\n",
    "        else:\n",
    "            print(f\"Past games between {home_team} and {away_team}:\")\n",
    "            print(past_matches[['Date', 'HomeTeam', 'AwayTeam', 'FTHG', 'FTAG', 'FTR']])\n",
    "\n",
    "        print(f\"\\nPredicting the outcome for {home_team} vs {away_team}:\")\n",
    "## win count for the scenario being played\n",
    "        home_win_count = past_matches[(past_matches['HomeTeam'] == home_team) & (past_matches['FTR'] == 'H')].shape[0]\n",
    "        away_win_count = past_matches[(past_matches['HomeTeam'] == home_team) & (past_matches['FTR'] == 'A')].shape[0]\n",
    "\n",
    "        print(f\"Home team has won {home_win_count} past matches.\")\n",
    "        print(f\"Away team has won {away_win_count} past matches.\")\n",
    "## form prediction based on win_odds\n",
    "        if home_stats['Win_Odds'] < away_stats['Win_Odds']:\n",
    "            prediction = f\"{home_team} is more likely to win based on overall stats and odds.\"\n",
    "        elif away_stats['Win_Odds'] < home_stats['Win_Odds']:\n",
    "            prediction = f\"{away_team} is more likely to win based on overall stats and odds.\"\n",
    "        else:\n",
    "            prediction = \"The game is likely to be a draw based on the odds and team stats.\"\n",
    "\n",
    "        if home_win_count > away_win_count:\n",
    "            prediction += f\"\\n{home_team} has historically performed better in head-to-head matches.\"\n",
    "        elif away_win_count > home_win_count:\n",
    "            prediction += f\"\\n{away_team} has historically performed better in head-to-head matches.\"\n",
    "        else:\n",
    "            prediction += \"\\nThere is no significant advantage based on past head-to-head matches.\"\n",
    "\n",
    "        return prediction\n",
    "\n",
    "    except KeyError as e:\n",
    "        print(f\"Error: Team '{e.args[0]}' not found in the dataset. Please check the team name and try again.\")\n",
    "        return None\n"
   ]
  },
  {
   "cell_type": "code",
   "execution_count": 42,
   "id": "df3983a12a8192a8",
   "metadata": {
    "ExecuteTime": {
     "end_time": "2024-10-14T21:08:30.401734Z",
     "start_time": "2024-10-14T21:08:24.009528Z"
    },
    "collapsed": false
   },
   "outputs": [
    {
     "name": "stdout",
     "output_type": "stream",
     "text": [
      "Past games between Man City and Chelsea:\n",
      "            Date  HomeTeam  AwayTeam  FTHG  FTAG FTR\n",
      "154   08/12/2018   Chelsea  Man City     2     0   H\n",
      "258   10/02/2019  Man City   Chelsea     6     0   H\n",
      "507   23/11/2019  Man City   Chelsea     2     1   H\n",
      "689   25/06/2020   Chelsea  Man City     2     1   H\n",
      "922   03/01/2021   Chelsea  Man City     1     3   A\n",
      "1100  08/05/2021  Man City   Chelsea     1     2   A\n",
      "1190  25/09/2021   Chelsea  Man City     0     1   A\n",
      "1334  15/01/2022  Man City   Chelsea     1     0   H\n",
      "1695  05/01/2023   Chelsea  Man City     0     1   A\n",
      "1886  21/05/2023  Man City   Chelsea     1     0   H\n",
      "2019  12/11/2023   Chelsea  Man City     4     4   D\n",
      "2144  17/02/2024  Man City   Chelsea     1     1   D\n",
      "\n",
      "Predicting the outcome for Man City vs Chelsea:\n",
      "Home team has won 4 past matches.\n",
      "Away team has won 1 past matches.\n",
      "Man City is more likely to win based on overall stats and odds.\n",
      "Man City has historically performed better in head-to-head matches.\n"
     ]
    }
   ],
   "source": [
    "home_team_input = input(\"Enter the name of the home team: \")\n",
    "away_team_input = input(\"Enter the name of the away team: \")\n",
    "\n",
    "\n",
    "result = predict_game_with_past(home_team_input, away_team_input)\n",
    "if result:\n",
    "    print(result)"
   ]
  },
  {
   "cell_type": "code",
   "execution_count": null,
   "id": "77134e0f86508389",
   "metadata": {
    "collapsed": false
   },
   "outputs": [],
   "source": []
  }
 ],
 "metadata": {
  "kernelspec": {
   "display_name": "Python 3 (ipykernel)",
   "language": "python",
   "name": "python3"
  },
  "language_info": {
   "codemirror_mode": {
    "name": "ipython",
    "version": 3
   },
   "file_extension": ".py",
   "mimetype": "text/x-python",
   "name": "python",
   "nbconvert_exporter": "python",
   "pygments_lexer": "ipython3",
   "version": "3.12.5"
  }
 },
 "nbformat": 4,
 "nbformat_minor": 5
}
